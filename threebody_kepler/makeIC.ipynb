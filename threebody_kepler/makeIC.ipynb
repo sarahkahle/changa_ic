{
 "cells": [
  {
   "cell_type": "code",
   "execution_count": 1,
   "metadata": {},
   "outputs": [],
   "source": [
    "%matplotlib inline\n",
    "import numpy as np\n",
    "import pynbody as pb\n",
    "import os\n",
    "\n",
    "\n",
    "# This script requires the 'poliastro' package\n",
    "# which can be installed with 'pip install poliastro'\n",
    "from poliastro.bodies import Sun\n",
    "from poliastro.twobody import Orbit\n",
    "from astropy import units as u\n",
    "\n",
    "simT = u.def_unit('simT', represents=(u.year/(2*np.pi)))\n",
    "simV = u.AU / simT"
   ]
  },
  {
   "cell_type": "code",
   "execution_count": 2,
   "metadata": {},
   "outputs": [],
   "source": [
    "filename = \"ic.bin\"\n",
    "\n",
    "# Sun\n",
    "m1 = 1 * u.M_sun\n",
    "\n",
    "# Jupiter\n",
    "m2 = u.M_jup.to(u.M_sun) * u.M_sun\n",
    "a2 = 5.2 * u.AU\n",
    "ecc2 = 1e-10 * u.one\n",
    "inc2 = 1 * u.deg\n",
    "raan2 = 0 * u.deg\n",
    "argp2 = 0 * u.deg\n",
    "nu2 = 0 * u.deg\n",
    "\n",
    "o2 = Orbit.from_classical(Sun, a2, ecc2, inc2, raan2, argp2, nu2)\n",
    "\n",
    "# Test particle in 2:1 MMR\n",
    "m3 = 1e-50 * u.M_sun\n",
    "p = 1.001\n",
    "q = 1\n",
    "a3 =  (p/(p+q))**(2/3)*a2\n",
    "ecc3 = 1e-1 * u.one\n",
    "inc3 = 1 * u.deg\n",
    "raan3 = 0 * u.deg\n",
    "argp3 = 0 * u.deg\n",
    "nu3 = 0 * u.deg\n",
    "\n",
    "o3 = Orbit.from_classical(Sun, a3, ecc3, inc3, raan3, argp3, nu3)"
   ]
  },
  {
   "cell_type": "code",
   "execution_count": 7,
   "metadata": {},
   "outputs": [
    {
     "data": {
      "text/plain": [
       "[<matplotlib.lines.Line2D at 0x181cfbb128>,\n",
       " <matplotlib.lines.Line2D at 0x182a00ba90>]"
      ]
     },
     "execution_count": 7,
     "metadata": {},
     "output_type": "execute_result"
    },
    {
     "data": {
      "image/png": "[encoded data removed]",
      "text/plain": [
       "<Figure size 432x432 with 1 Axes>"
      ]
     },
     "metadata": {
      "needs_background": "light"
     },
     "output_type": "display_data"
    }
   ],
   "source": [
    "from poliastro.plotting.static import StaticOrbitPlotter\n",
    "\n",
    "op = StaticOrbitPlotter()\n",
    "op.plot(o2)\n",
    "op.plot(o3)"
   ]
  },
  {
   "cell_type": "code",
   "execution_count": 8,
   "metadata": {},
   "outputs": [],
   "source": [
    "r2 = o2.r\n",
    "v2 = o2.v\n",
    "r3 = o3.r\n",
    "v3 = o3.v\n",
    "\n",
    "m_tot = m1 + m2 + m3\n",
    "r_com = (r2*m2 + r3*m3)/m_tot\n",
    "v_com = (v2*m2 + v3*m3)/m_tot\n",
    "\n",
    "# Convert to barycentric coordinates\n",
    "r1 = -r_com\n",
    "v1 = -v_com\n",
    "r2 -= r_com\n",
    "v2 -= v_com\n",
    "r3 -= r_com\n",
    "v3 -= v_com"
   ]
  },
  {
   "cell_type": "code",
   "execution_count": 9,
   "metadata": {},
   "outputs": [
    {
     "name": "stdout",
     "output_type": "stream",
     "text": [
      "Recommended timestep: 0.11863750370266933\n"
     ]
    }
   ],
   "source": [
    "tdyn3 = np.sqrt(a3**3/m1)\n",
    "print(\"Recommended timestep: \" + str(tdyn3.value*0.02))"
   ]
  },
  {
   "cell_type": "code",
   "execution_count": 10,
   "metadata": {},
   "outputs": [],
   "source": [
    "# Convert to simulation units\n",
    "e = 1e-10\n",
    "\n",
    "ntotal = 3\n",
    "ndim = 3\n",
    "time = 0\n",
    "masses = np.array([m1.value, m2.value, m3.value])\n",
    "positions = np.array([r1.to(u.AU).value, r2.to(u.AU).value, r3.to(u.AU).value])\n",
    "velocities = np.array([v1.to(simV).value, v2.to(simV).value, v3.to(simV).value])\n",
    "eps = np.array([e, e, e])"
   ]
  },
  {
   "cell_type": "code",
   "execution_count": 11,
   "metadata": {},
   "outputs": [],
   "source": [
    "pot = np.zeros(ntotal)\n",
    "for idx in range(ntotal):\n",
    "    e = 0.0\n",
    "    for idx1 in range(ntotal):\n",
    "        if idx == idx1:\n",
    "            continue\n",
    "        r = np.sqrt(np.sum((positions[idx] - positions[idx1])**2))\n",
    "        e += -masses[idx1]/r\n",
    "    pot[idx] = e"
   ]
  },
  {
   "cell_type": "code",
   "execution_count": 12,
   "metadata": {},
   "outputs": [],
   "source": [
    "f = open('ic.txt', 'w')\n",
    "\n",
    "f.write(str(ntotal) + ', 0, 0\\n')\n",
    "f.write(str(ndim) + '\\n')\n",
    "f.write(str(time) + '\\n')\n",
    "\n",
    "for idx in range(ntotal):\n",
    "    f.write(str(masses[idx]) + '\\n')\n",
    "\n",
    "for idx in range(ntotal):\n",
    "    f.write(str(positions[:,0][idx]) + '\\n')\n",
    "for idx in range(ntotal):\n",
    "    f.write(str(positions[:,1][idx]) + '\\n')\n",
    "for idx in range(ntotal):\n",
    "    f.write(str(positions[:,2][idx]) + '\\n')\n",
    "    \n",
    "for idx in range(ntotal):\n",
    "    f.write(str(velocities[:,0][idx]) + '\\n')\n",
    "for idx in range(ntotal):\n",
    "    f.write(str(velocities[:,1][idx]) + '\\n')\n",
    "for idx in range(ntotal):\n",
    "    f.write(str(velocities[:,2][idx]) + '\\n')\n",
    "    \n",
    "for idx in range(ntotal):\n",
    "    f.write(str(eps[idx]) + '\\n')\n",
    "    \n",
    "for idx in range(ntotal):\n",
    "    f.write(str(pot[idx]) + '\\n')\n",
    "\n",
    "f.close()"
   ]
  },
  {
   "cell_type": "code",
   "execution_count": 13,
   "metadata": {},
   "outputs": [
    {
     "data": {
      "text/plain": [
       "0"
      ]
     },
     "execution_count": 13,
     "metadata": {},
     "output_type": "execute_result"
    }
   ],
   "source": [
    "os.system(\"$HOME/tipsy_tools/ascii2bin < ic.txt > \" + filename)\n",
    "os.system(\"rm ic.txt\")"
   ]
  },
  {
   "cell_type": "code",
   "execution_count": null,
   "metadata": {
    "collapsed": true
   },
   "outputs": [],
   "source": []
  }
 ],
 "metadata": {
  "kernelspec": {
   "display_name": "Python 3",
   "language": "python",
   "name": "python3"
  },
  "language_info": {
   "codemirror_mode": {
    "name": "ipython",
    "version": 3
   },
   "file_extension": ".py",
   "mimetype": "text/x-python",
   "name": "python",
   "nbconvert_exporter": "python",
   "pygments_lexer": "ipython3",
   "version": "3.7.1"
  }
 },
 "nbformat": 4,
 "nbformat_minor": 2
}
