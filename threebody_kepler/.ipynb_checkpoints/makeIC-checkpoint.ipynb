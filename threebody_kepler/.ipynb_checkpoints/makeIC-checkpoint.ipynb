{
 "cells": [
  {
   "cell_type": "code",
   "execution_count": 1,
   "metadata": {
    "collapsed": true
   },
   "outputs": [],
   "source": [
    "%matplotlib inline\n",
    "import numpy as np\n",
    "import pynbody as pb\n",
    "import os\n",
    "from astropy import units as u\n",
    "simT = u.year/(2*np.pi)\n",
    "simV = u.AU / simT\n",
    "\n",
    "from poliastro.bodies import Sun\n",
    "from poliastro.twobody import Orbit"
   ]
  },
  {
   "cell_type": "code",
   "execution_count": 3,
   "metadata": {},
   "outputs": [
    {
     "name": "stdout",
     "output_type": "stream",
     "text": [
      "3.276886024727117 AU\n"
     ]
    }
   ],
   "source": [
    "filename = \"ic.bin\"\n",
    "\n",
    "# Sun\n",
    "m1 = 1 * u.M_sun\n",
    "\n",
    "# Jupiter\n",
    "m2 = u.M_jup.to(u.M_sun)\n",
    "a2 = 5.2 * u.AU\n",
    "ecc2 = 1e-10 * u.one\n",
    "inc2 = 1 * u.deg\n",
    "raan2 = 0 * u.deg\n",
    "argp2 = 0 * u.deg\n",
    "nu2 = 0 * u.deg\n",
    "\n",
    "o2 = Orbit.from_classical(Sun, a2, ecc2, inc2, raan2, argp2, nu2)\n",
    "\n",
    "# Test particle in 2:1 MMR\n",
    "m3 = 1e-50 * u.M_sun\n",
    "p = 1.001\n",
    "q = 1\n",
    "a3 =  (p/(p+q))**(2/3)*a2\n",
    "ecc3 = 1e-1 * u.one\n",
    "inc3 = 1 * u.deg\n",
    "raan3 = 0 * u.deg\n",
    "argp3 = 0 * u.deg\n",
    "nu3 = 0 * u.deg\n",
    "\n",
    "o3 = Orbit.from_classical(Sun, a3, ecc3, inc3, raan3, argp3, nu3)"
   ]
  },
  {
   "cell_type": "code",
   "execution_count": 194,
   "metadata": {},
   "outputs": [
    {
     "data": {
      "text/plain": [
       "[<matplotlib.lines.Line2D at 0x7efee7eafe48>,\n",
       " <matplotlib.lines.Line2D at 0x7efee7ea0a20>]"
      ]
     },
     "execution_count": 194,
     "metadata": {},
     "output_type": "execute_result"
    },
    {
     "data": {
      "image/png": "[encoded data removed]",
      "text/plain": [
       "<matplotlib.figure.Figure at 0x7efeea832e10>"
      ]
     },
     "metadata": {},
     "output_type": "display_data"
    }
   ],
   "source": [
    "from poliastro.plotting import OrbitPlotter\n",
    "\n",
    "op = OrbitPlotter()\n",
    "op.plot(o2)\n",
    "op.plot(o3)"
   ]
  },
  {
   "cell_type": "code",
   "execution_count": 195,
   "metadata": {
    "collapsed": true
   },
   "outputs": [],
   "source": [
    "r2 = o2.r\n",
    "v2 = o2.v\n",
    "r3 = o3.r\n",
    "v3 = o3.v\n",
    "\n",
    "m_tot = m1 + m2 + m3\n",
    "r_com = (r2*m2 + r3*m3)/m_tot\n",
    "v_com = (v2*m2 + v3*m3)/m_tot\n",
    "\n",
    "# Convert to barycentric coordinates\n",
    "r1 = -r_com\n",
    "v1 = -v_com\n",
    "r2 -= r_com\n",
    "v2 -= v_com\n",
    "r3 -= r_com\n",
    "v3 -= v_com"
   ]
  },
  {
   "cell_type": "code",
   "execution_count": 196,
   "metadata": {},
   "outputs": [
    {
     "name": "stdout",
     "output_type": "stream",
     "text": [
      "0.11863750370266933 AU(3/2) / solMass(1/2)\n"
     ]
    }
   ],
   "source": [
    "tdyn3 = np.sqrt(a3**3/m1)\n",
    "print(tdyn3*0.02)"
   ]
  },
  {
   "cell_type": "code",
   "execution_count": 197,
   "metadata": {
    "collapsed": true
   },
   "outputs": [],
   "source": [
    "# Convert to simulation units\n",
    "e = 1e-10\n",
    "\n",
    "ntotal = 3\n",
    "ndim = 3\n",
    "time = 0\n",
    "masses = np.array([m1.value, m2.value, m3.value])\n",
    "positions = np.array([r1.to(u.AU).value, r2.to(u.AU).value, r3.to(u.AU).value])\n",
    "velocities = np.array([v1.to(simV).value, v2.to(simV).value, v3.to(simV).value])\n",
    "eps = np.array([e, e, e])"
   ]
  },
  {
   "cell_type": "code",
   "execution_count": 198,
   "metadata": {
    "collapsed": true
   },
   "outputs": [],
   "source": [
    "pot = np.zeros(ntotal)\n",
    "for idx in range(ntotal):\n",
    "    e = 0.0\n",
    "    for idx1 in range(ntotal):\n",
    "        if idx == idx1:\n",
    "            continue\n",
    "        r = np.sqrt(np.sum((positions[idx] - positions[idx1])**2))\n",
    "        e += -masses[idx1]/r\n",
    "    pot[idx] = e"
   ]
  },
  {
   "cell_type": "code",
   "execution_count": 199,
   "metadata": {
    "collapsed": true
   },
   "outputs": [],
   "source": [
    "f = open('ic.txt', 'w')\n",
    "\n",
    "f.write(str(ntotal) + ', 0, 0\\n')\n",
    "f.write(str(ndim) + '\\n')\n",
    "f.write(str(time) + '\\n')\n",
    "\n",
    "for idx in range(ntotal):\n",
    "    f.write(str(masses[idx]) + '\\n')\n",
    "\n",
    "for idx in range(ntotal):\n",
    "    f.write(str(positions[:,0][idx]) + '\\n')\n",
    "for idx in range(ntotal):\n",
    "    f.write(str(positions[:,1][idx]) + '\\n')\n",
    "for idx in range(ntotal):\n",
    "    f.write(str(positions[:,2][idx]) + '\\n')\n",
    "    \n",
    "for idx in range(ntotal):\n",
    "    f.write(str(velocities[:,0][idx]) + '\\n')\n",
    "for idx in range(ntotal):\n",
    "    f.write(str(velocities[:,1][idx]) + '\\n')\n",
    "for idx in range(ntotal):\n",
    "    f.write(str(velocities[:,2][idx]) + '\\n')\n",
    "    \n",
    "for idx in range(ntotal):\n",
    "    f.write(str(eps[idx]) + '\\n')\n",
    "    \n",
    "for idx in range(ntotal):\n",
    "    f.write(str(pot[idx]) + '\\n')\n",
    "\n",
    "f.close()"
   ]
  },
  {
   "cell_type": "code",
   "execution_count": 202,
   "metadata": {},
   "outputs": [
    {
     "name": "stdout",
     "output_type": "stream",
     "text": [
      "read time 0.000000\r\n"
     ]
    }
   ],
   "source": [
    "os.system(\"$ASCII2BIN_PATH < ic.txt > \" + filename)\n",
    "os.system(\"rm ic.txt\")"
   ]
  },
  {
   "cell_type": "code",
   "execution_count": null,
   "metadata": {
    "collapsed": true
   },
   "outputs": [],
   "source": []
  }
 ],
 "metadata": {
  "kernelspec": {
   "display_name": "Python 3",
   "language": "python",
   "name": "python3"
  },
  "language_info": {
   "codemirror_mode": {
    "name": "ipython",
    "version": 3
   },
   "file_extension": ".py",
   "mimetype": "text/x-python",
   "name": "python",
   "nbconvert_exporter": "python",
   "pygments_lexer": "ipython3",
   "version": "3.6.3"
  }
 },
 "nbformat": 4,
 "nbformat_minor": 2
}
