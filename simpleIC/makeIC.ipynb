{
 "cells": [
  {
   "cell_type": "code",
   "execution_count": 16,
   "metadata": {
    "collapsed": true
   },
   "outputs": [],
   "source": [
    "%matplotlib inline\n",
    "import matplotlib.pylab as plt\n",
    "import numpy as np\n",
    "import os\n",
    "from astropy import units as u\n",
    "\n",
    "simT = u.def_unit('simT', represents=(u.year/(2*np.pi)))\n",
    "simV = u.AU / simT"
   ]
  },
  {
   "cell_type": "code",
   "execution_count": 17,
   "metadata": {},
   "outputs": [
    {
     "name": "stdout",
     "output_type": "stream",
     "text": [
      "[-0.5  0.   0. ] AU / simT\n"
     ]
    }
   ],
   "source": [
    "filename = 'icfile2.bin' # The name of the initial condition file\n",
    "\n",
    "seed = 0\n",
    "np.random.seed(seed)\n",
    "\n",
    "for x in range(1):\n",
    "    ntotal = 500\n",
    "ndim = 3   # Number of dimensions (leave this at 3)\n",
    "time = 0   # Starting time\n",
    "\n",
    "masses = np.empty(ntotal)\n",
    "for i in range(ntotal):\n",
    "    masses[i] = 1e-50  \n",
    "    \n",
    "positions = np.empty((ntotal,3))\n",
    "for i in range(ntotal):\n",
    "    xpos = np.random.rand()*10 - 5\n",
    "    ypos = np.random.rand()*10 - 5\n",
    "    zpos = np.random.rand()*10 - 5\n",
    "    positions[i] = np.array([xpos, ypos, zpos]) \n",
    "    \n",
    "velocities = np.empty((ntotal,3))\n",
    "for i in range(ntotal):\n",
    "    xvel = np.random.rand()*10 - 5\n",
    "    yvel = np.random.rand()*10 - 5\n",
    "    zvel = np.random.rand()*10 - 5\n",
    "    velocities[i] = np.array([xvel, yvel, zvel]) \n",
    "   \n",
    "radius = np.empty(ntotal)\n",
    "for i in range(ntotal):\n",
    "    radius[i] = 1e-50 \n",
    "        \n",
    "eps = np.array(radius/2)\n",
    "\n",
    "print(seed)"
   ]
  },
  {
   "cell_type": "code",
   "execution_count": 18,
   "metadata": {
    "collapsed": true
   },
   "outputs": [],
   "source": [
    "# Calculate the gravitational potential for each particle\n",
    "\n",
    "pot = np.zeros(ntotal)\n",
    "for idx in range(ntotal):\n",
    "    e = 0.0\n",
    "    for idx1 in range(ntotal):\n",
    "        if idx == idx1:\n",
    "            continue\n",
    "        r = np.sqrt(np.sum((positions[idx] - positions[idx1])**2))\n",
    "        e += -masses[idx1]/r\n",
    "    pot[idx] = e"
   ]
  },
  {
   "cell_type": "code",
   "execution_count": 19,
   "metadata": {
    "collapsed": true
   },
   "outputs": [],
   "source": [
    "# Write the data out to an ASCII file in the correct format\n",
    "# See http://faculty.washington.edu/trq/hpcc/tipsy/man/readascii.html for details\n",
    "\n",
    "f = open('ic.txt', 'w')\n",
    "\n",
    "f.write(str(ntotal) + ', 0, 0\\n')\n",
    "f.write(str(ndim) + '\\n')\n",
    "f.write(str(time) + '\\n')\n",
    "\n",
    "for idx in range(ntotal):\n",
    "    f.write(str(masses[idx]) + '\\n')\n",
    "\n",
    "for idx in range(ntotal):\n",
    "    f.write(str(positions[:,0][idx]) + '\\n')\n",
    "for idx in range(ntotal):\n",
    "    f.write(str(positions[:,1][idx]) + '\\n')\n",
    "for idx in range(ntotal):\n",
    "    f.write(str(positions[:,2][idx]) + '\\n')\n",
    "    \n",
    "for idx in range(ntotal):\n",
    "    f.write(str(velocities[:,0][idx]) + '\\n')\n",
    "for idx in range(ntotal):\n",
    "    f.write(str(velocities[:,1][idx]) + '\\n')\n",
    "for idx in range(ntotal):\n",
    "    f.write(str(velocities[:,2][idx]) + '\\n')\n",
    "    \n",
    "for idx in range(ntotal):\n",
    "    f.write(str(eps[idx]) + '\\n')\n",
    "    \n",
    "for idx in range(ntotal):\n",
    "    f.write(str(pot[idx]) + '\\n')\n",
    "\n",
    "f.close()"
   ]
  },
  {
   "cell_type": "code",
   "execution_count": 20,
   "metadata": {},
   "outputs": [
    {
     "data": {
      "text/plain": [
       "0"
      ]
     },
     "execution_count": 20,
     "metadata": {},
     "output_type": "execute_result"
    }
   ],
   "source": [
    "os.system(\"$HOME/tipsy_tools/ascii2bin < ic.txt > \" + filename)\n",
    "os.system(\"rm ic.txt\")"
   ]
  },
  {
   "cell_type": "code",
   "execution_count": null,
   "metadata": {
    "collapsed": true
   },
   "outputs": [],
   "source": []
  }
 ],
 "metadata": {
  "kernelspec": {
   "display_name": "Python 3",
   "language": "python",
   "name": "python3"
  },
  "language_info": {
   "codemirror_mode": {
    "name": "ipython",
    "version": 3
   },
   "file_extension": ".py",
   "mimetype": "text/x-python",
   "name": "python",
   "nbconvert_exporter": "python",
   "pygments_lexer": "ipython3",
   "version": "3.7.1"
  }
 },
 "nbformat": 4,
 "nbformat_minor": 2
}
